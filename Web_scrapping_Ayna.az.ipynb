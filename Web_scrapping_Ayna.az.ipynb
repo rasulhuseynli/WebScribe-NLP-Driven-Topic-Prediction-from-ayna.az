{
 "cells": [
  {
   "cell_type": "code",
   "execution_count": 115,
   "id": "1eca58c1",
   "metadata": {},
   "outputs": [],
   "source": [
    "import requests\n",
    "from bs4 import BeautifulSoup\n",
    "import pandas as pd"
   ]
  },
  {
   "cell_type": "code",
   "execution_count": 2,
   "id": "5413d60e",
   "metadata": {},
   "outputs": [],
   "source": [
    "base_url = 'https://ayna.az/'"
   ]
  },
  {
   "cell_type": "code",
   "execution_count": 107,
   "id": "10b9f931",
   "metadata": {},
   "outputs": [],
   "source": [
    "def get_soup(url):\n",
    "\n",
    "    while True:\n",
    "\n",
    "        try:\n",
    "\n",
    "            response=requests.get(url)\n",
    "\n",
    "            html_ici=response.content\n",
    "\n",
    "            soup=BeautifulSoup(html_ici, 'html.parser')\n",
    "\n",
    "            return soup\n",
    "\n",
    "        except:\n",
    "            continue"
   ]
  },
  {
   "cell_type": "code",
   "execution_count": 7,
   "id": "c5bd3577",
   "metadata": {},
   "outputs": [],
   "source": [
    "def get_categories(url):\n",
    "    cat = {}\n",
    "    soup = get_soup(url)\n",
    "    ul = soup.find('ul',{'class':\"navbar-nav nav-menu\"})\n",
    "    \n",
    "    for a in ul.find_all('a'):\n",
    "        cat[a.text.strip('\\n')] = a.get('href')\n",
    "    return cat"
   ]
  },
  {
   "cell_type": "code",
   "execution_count": 8,
   "id": "4eff0406",
   "metadata": {},
   "outputs": [
    {
     "name": "stdout",
     "output_type": "stream",
     "text": [
      "{'İqtİsadİyyat': 'https://ayna.az/iqtisadiyyat', 'Xəbərlər ': 'https://ayna.az/xeberler', 'Hadisə ': 'https://ayna.az/xeberler/hadise', 'Sİyasət': 'https://ayna.az/siyaset', 'Cəmİyyət': 'https://ayna.az/cemiyyet', 'Mədənİyyət': 'https://ayna.az/medeniyyet', 'Aktual': 'https://ayna.az/aktual', 'Dünya': 'https://ayna.az/dunya', 'İdman': 'https://ayna.az/idman', 'Tarİx': 'https://ayna.az/tarix', 'Yazarlar ': 'https://ayna.az/yazarlar', 'Elçin Şıxlı ': 'https://ayna.az/yazarlar/elcin-sixli', 'İbrahim Nəbioğlu ': 'https://ayna.az/yazarlar/ibrahim-nebioglu', 'Arif Əliyev ': 'https://ayna.az/yazarlar/arif-eliyev', 'Qulu Məhərrəmli ': 'https://ayna.az/yazarlar/qulu-meherremli', 'Maraqlı ': 'https://ayna.az/maraqli', 'Reklam ': 'https://ayna.az/maraqli/reklam'}\n"
     ]
    }
   ],
   "source": [
    "print(get_categories(base_url))"
   ]
  },
  {
   "cell_type": "code",
   "execution_count": 92,
   "id": "cf17f219",
   "metadata": {},
   "outputs": [],
   "source": [
    "def get_page(url):\n",
    "\n",
    "    n = 2\n",
    "    urls = []\n",
    "    \n",
    "    while n<20:\n",
    "        new_url = url + f'?page={n}'\n",
    "        soup = get_soup(new_url)\n",
    "        li  = soup.find('li',{'class':'next'})\n",
    "\n",
    "        if li == '':\n",
    "            break\n",
    "        \n",
    "        urls.append(new_url)\n",
    "        n+=1\n",
    "    urls.insert(0,url)\n",
    "    \n",
    "    return urls"
   ]
  },
  {
   "cell_type": "code",
   "execution_count": 72,
   "id": "e7d965f3",
   "metadata": {},
   "outputs": [],
   "source": [
    "def get_news_url(url):\n",
    "    soup = get_soup(url)\n",
    "    table = soup.find_all('div',{'class':'card pr-card'})\n",
    "    \n",
    "    urls=[a.find('a').get('href') for a in table]\n",
    "    \n",
    "    return urls"
   ]
  },
  {
   "cell_type": "code",
   "execution_count": 77,
   "id": "bedd6526",
   "metadata": {},
   "outputs": [
    {
     "data": {
      "text/plain": [
       "'https://ayna.az/azeri-light-ucuzlasib-66188'"
      ]
     },
     "execution_count": 77,
     "metadata": {},
     "output_type": "execute_result"
    }
   ],
   "source": [
    "get_news_url('https://ayna.az/iqtisadiyyat?page=2')[0]"
   ]
  },
  {
   "cell_type": "code",
   "execution_count": 80,
   "id": "42b79b90",
   "metadata": {},
   "outputs": [],
   "source": [
    "def get_news_text(url):\n",
    "    soup = get_soup(url)\n",
    "    \n",
    "    article = soup.find('article',{'class':'full-post-article news-article'})\n",
    "    \n",
    "    return article.text"
   ]
  },
  {
   "cell_type": "code",
   "execution_count": null,
   "id": "7d2c19f8",
   "metadata": {},
   "outputs": [],
   "source": []
  },
  {
   "cell_type": "code",
   "execution_count": 110,
   "id": "23d084f6",
   "metadata": {},
   "outputs": [],
   "source": [
    "answer = {'category':[], 'text':[]}"
   ]
  },
  {
   "cell_type": "code",
   "execution_count": 111,
   "id": "69e3cbee",
   "metadata": {},
   "outputs": [],
   "source": [
    "categories = get_categories(base_url)"
   ]
  },
  {
   "cell_type": "code",
   "execution_count": 112,
   "id": "f8e5a873",
   "metadata": {},
   "outputs": [
    {
     "name": "stderr",
     "output_type": "stream",
     "text": [
      "IOPub data rate exceeded.\n",
      "The notebook server will temporarily stop sending output\n",
      "to the client in order to avoid crashing it.\n",
      "To change this limit, set the config variable\n",
      "`--NotebookApp.iopub_data_rate_limit`.\n",
      "\n",
      "Current values:\n",
      "NotebookApp.iopub_data_rate_limit=1000000.0 (bytes/sec)\n",
      "NotebookApp.rate_limit_window=3.0 (secs)\n",
      "\n"
     ]
    }
   ],
   "source": [
    "try:\n",
    "    for name, url in categories.items():\n",
    "        pages = get_page(url)\n",
    "\n",
    "        for page in pages:\n",
    "            news_urls = get_news_url(page)\n",
    "\n",
    "            for new_url in news_urls:\n",
    "                text = get_news_text(new_url)\n",
    "                answer['category'].append(name)\n",
    "                answer['text'].append(text)\n",
    "            \n",
    "        \n",
    "    print(answer)\n",
    "except:\n",
    "    pass"
   ]
  },
  {
   "cell_type": "code",
   "execution_count": 113,
   "id": "76827a50",
   "metadata": {},
   "outputs": [
    {
     "data": {
      "text/html": [
       "<div>\n",
       "<style scoped>\n",
       "    .dataframe tbody tr th:only-of-type {\n",
       "        vertical-align: middle;\n",
       "    }\n",
       "\n",
       "    .dataframe tbody tr th {\n",
       "        vertical-align: top;\n",
       "    }\n",
       "\n",
       "    .dataframe thead th {\n",
       "        text-align: right;\n",
       "    }\n",
       "</style>\n",
       "<table border=\"1\" class=\"dataframe\">\n",
       "  <thead>\n",
       "    <tr style=\"text-align: right;\">\n",
       "      <th></th>\n",
       "      <th>category</th>\n",
       "      <th>text</th>\n",
       "    </tr>\n",
       "  </thead>\n",
       "  <tbody>\n",
       "    <tr>\n",
       "      <th>0</th>\n",
       "      <td>İqtİsadİyyat</td>\n",
       "      <td>\\nHüquqşünas: “Azərbaycanda banklara qarşı irə...</td>\n",
       "    </tr>\n",
       "    <tr>\n",
       "      <th>1</th>\n",
       "      <td>İqtİsadİyyat</td>\n",
       "      <td>\\nAzərbaycan neftinin qiyməti 93 dollara yaxın...</td>\n",
       "    </tr>\n",
       "    <tr>\n",
       "      <th>2</th>\n",
       "      <td>İqtİsadİyyat</td>\n",
       "      <td>\\n Neftin qiymətində artım qeydə alınıb \\nDüny...</td>\n",
       "    </tr>\n",
       "    <tr>\n",
       "      <th>3</th>\n",
       "      <td>İqtİsadİyyat</td>\n",
       "      <td>\\nİlham Əliyev: “Hədəfimiz qazıntı yanacağında...</td>\n",
       "    </tr>\n",
       "    <tr>\n",
       "      <th>4</th>\n",
       "      <td>İqtİsadİyyat</td>\n",
       "      <td>\\nAzərbaycan Hökuməti ilə Birləşmiş Ərəb Əmirl...</td>\n",
       "    </tr>\n",
       "    <tr>\n",
       "      <th>...</th>\n",
       "      <td>...</td>\n",
       "      <td>...</td>\n",
       "    </tr>\n",
       "    <tr>\n",
       "      <th>3613</th>\n",
       "      <td>Reklam</td>\n",
       "      <td>\\nFonda ümumilikdə ianə edilmiş məbləğ 2 milyo...</td>\n",
       "    </tr>\n",
       "    <tr>\n",
       "      <th>3614</th>\n",
       "      <td>Reklam</td>\n",
       "      <td>\\nTəbriz küçəsi 108 ünvanında yerləşən yeni “B...</td>\n",
       "    </tr>\n",
       "    <tr>\n",
       "      <th>3615</th>\n",
       "      <td>Reklam</td>\n",
       "      <td>\\n“e-Tabib”lə yoluxmanın qarşısını al!” tətbiq...</td>\n",
       "    </tr>\n",
       "    <tr>\n",
       "      <th>3616</th>\n",
       "      <td>Reklam</td>\n",
       "      <td>\\nŞirkət təklif ediyi xidmət və məhsulların tə...</td>\n",
       "    </tr>\n",
       "    <tr>\n",
       "      <th>3617</th>\n",
       "      <td>Reklam</td>\n",
       "      <td>\\n600 mindən çox aktiv istifadəçisi olan “Məni...</td>\n",
       "    </tr>\n",
       "  </tbody>\n",
       "</table>\n",
       "<p>3618 rows × 2 columns</p>\n",
       "</div>"
      ],
      "text/plain": [
       "          category                                               text\n",
       "0     İqtİsadİyyat  \\nHüquqşünas: “Azərbaycanda banklara qarşı irə...\n",
       "1     İqtİsadİyyat  \\nAzərbaycan neftinin qiyməti 93 dollara yaxın...\n",
       "2     İqtİsadİyyat  \\n Neftin qiymətində artım qeydə alınıb \\nDüny...\n",
       "3     İqtİsadİyyat  \\nİlham Əliyev: “Hədəfimiz qazıntı yanacağında...\n",
       "4     İqtİsadİyyat  \\nAzərbaycan Hökuməti ilə Birləşmiş Ərəb Əmirl...\n",
       "...            ...                                                ...\n",
       "3613       Reklam   \\nFonda ümumilikdə ianə edilmiş məbləğ 2 milyo...\n",
       "3614       Reklam   \\nTəbriz küçəsi 108 ünvanında yerləşən yeni “B...\n",
       "3615       Reklam   \\n“e-Tabib”lə yoluxmanın qarşısını al!” tətbiq...\n",
       "3616       Reklam   \\nŞirkət təklif ediyi xidmət və məhsulların tə...\n",
       "3617       Reklam   \\n600 mindən çox aktiv istifadəçisi olan “Məni...\n",
       "\n",
       "[3618 rows x 2 columns]"
      ]
     },
     "execution_count": 113,
     "metadata": {},
     "output_type": "execute_result"
    }
   ],
   "source": [
    "df = pd.DataFrame(answer)\n",
    "df"
   ]
  },
  {
   "cell_type": "code",
   "execution_count": 114,
   "id": "e64402b8",
   "metadata": {},
   "outputs": [],
   "source": [
    "df.to_csv('Rasul_ayna_data.csv')"
   ]
  }
 ],
 "metadata": {
  "kernelspec": {
   "display_name": "Python 3 (ipykernel)",
   "language": "python",
   "name": "python3"
  },
  "language_info": {
   "codemirror_mode": {
    "name": "ipython",
    "version": 3
   },
   "file_extension": ".py",
   "mimetype": "text/x-python",
   "name": "python",
   "nbconvert_exporter": "python",
   "pygments_lexer": "ipython3",
   "version": "3.9.6"
  }
 },
 "nbformat": 4,
 "nbformat_minor": 5
}
